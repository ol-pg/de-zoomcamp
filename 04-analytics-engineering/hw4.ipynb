{
 "cells": [
  {
   "cell_type": "markdown",
   "id": "65261457",
   "metadata": {},
   "source": [
    "## Module 4 Homework \n",
    "\n",
    "### Question 1: \n",
    "\n",
    "**What happens when we execute dbt build --vars '{'is_test_run':'true'}'**\n",
    "You'll need to have completed the [\"Build the first dbt models\"](https://www.youtube.com/watch?v=UVI30Vxzd6c) video. \n",
    "- It's the same as running *dbt build*\n",
    "- **It applies a _limit 100_ to all of our models**\n",
    "- It applies a _limit 100_ only to our staging models\n",
    "- Nothing\n",
    "\n",
    "### Question 2: \n",
    "\n",
    "**What is the code that our CI job will run?**  \n",
    "\n",
    "- The code that has been merged into the main branch\n",
    "- The code that is behind the object on the dbt_cloud_pr_ schema\n",
    "- **The code from any development branch that has been opened based on main**\n",
    "- The code from a development branch requesting a merge to main\n",
    "\n",
    "\n",
    "### Question 3 (2 points)\n",
    "\n",
    "**What is the count of records in the model fact_fhv_trips after running all dependencies with the test run variable disabled (:false)?**  \n",
    "Create a staging model for the fhv data, similar to the ones made for yellow and green data. Add an additional filter for keeping only records with pickup time in year 2019.\n",
    "Do not add a deduplication step. Run this models without limits (is_test_run: false).\n",
    "\n",
    "Create a core model similar to fact trips, but selecting from stg_fhv_tripdata and joining with dim_zones.\n",
    "Similar to what we've done in fact_trips, keep only records with known pickup and dropoff locations entries for pickup and dropoff locations. \n",
    "Run the dbt model without limits (is_test_run: false).\n",
    "\n",
    "- 12998722\n",
    "- **22998722**\n",
    "- 32998722\n",
    "- 42998722\n",
    "\n",
    "### Question 4 (2 points)\n",
    "\n",
    "**What is the service that had the most rides during the month of July 2019 month with the biggest amount of rides after building a tile for the fact_fhv_trips table?**\n",
    "\n",
    "Create a dashboard with some tiles that you find interesting to explore the data. One tile should show the amount of trips per month, as done in the videos for fact_trips, including the fact_fhv_trips data.\n",
    "\n",
    "- FHV\n",
    "- Green\n",
    "- **Yellow**\n",
    "- FHV and Green"
   ]
  },
  {
   "cell_type": "code",
   "execution_count": null,
   "id": "cff19f03",
   "metadata": {},
   "outputs": [],
   "source": []
  }
 ],
 "metadata": {
  "kernelspec": {
   "display_name": "Python 3 (ipykernel)",
   "language": "python",
   "name": "python3"
  },
  "language_info": {
   "codemirror_mode": {
    "name": "ipython",
    "version": 3
   },
   "file_extension": ".py",
   "mimetype": "text/x-python",
   "name": "python",
   "nbconvert_exporter": "python",
   "pygments_lexer": "ipython3",
   "version": "3.9.13"
  },
  "toc": {
   "base_numbering": 1,
   "nav_menu": {},
   "number_sections": true,
   "sideBar": true,
   "skip_h1_title": false,
   "title_cell": "Table of Contents",
   "title_sidebar": "Contents",
   "toc_cell": false,
   "toc_position": {},
   "toc_section_display": true,
   "toc_window_display": false
  }
 },
 "nbformat": 4,
 "nbformat_minor": 5
}
