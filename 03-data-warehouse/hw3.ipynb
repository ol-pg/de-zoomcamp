{
 "cells": [
  {
   "cell_type": "markdown",
   "id": "f1575669",
   "metadata": {
    "collapsed": true
   },
   "source": [
    "# Week 3 Homework\n",
    "ATTENTION: At the end of the submission form, you will be required to include a link to your GitHub repository or other public code-hosting site. This repository should contain your code for solving the homework. If your solution includes code that is not in file format (such as SQL queries or shell commands), please include these directly in the README file of your repository.\n",
    "\n",
    "<b><u>Important Note:</b></u> <p> For this homework we will be using the 2022 Green Taxi Trip Record Parquet Files from the New York\n",
    "City Taxi Data found here: </br> https://www.nyc.gov/site/tlc/about/tlc-trip-record-data.page </br>\n",
    "If you are using orchestration such as Mage, Airflow or Prefect do not load the data into Big Query using the orchestrator.</br> \n",
    "Stop with loading the files into a bucket. </br></br>\n",
    "<u>NOTE:</u> You will need to use the PARQUET option files when creating an External Table</br>\n",
    "\n",
    "<b>SETUP:</b></br>\n",
    "Create an external table using the Green Taxi Trip Records Data for 2022. </br>\n",
    "Create a table in BQ using the Green Taxi Trip Records for 2022 (do not partition or cluster this table). </br>\n",
    "</p>"
   ]
  },
  {
   "cell_type": "markdown",
   "id": "75e8a196",
   "metadata": {},
   "source": [
    "## Question 1:\n",
    "Question 1: What is count of records for the 2022 Green Taxi Data??\n",
    "- 65,623,481\n",
    "- **840,402**\n",
    "- 1,936,423\n",
    "- 253,647"
   ]
  },
  {
   "cell_type": "markdown",
   "id": "dbd8f818",
   "metadata": {
    "ExecuteTime": {
     "end_time": "2024-02-05T20:49:44.386469Z",
     "start_time": "2024-02-05T20:49:44.235025Z"
    }
   },
   "source": [
    "![answer1](./screenshots/q1.png)"
   ]
  },
  {
   "cell_type": "markdown",
   "id": "8ec33b4d",
   "metadata": {},
   "source": [
    "## Question 2:\n",
    "Write a query to count the distinct number of PULocationIDs for the entire dataset on both the tables.</br> \n",
    "What is the estimated amount of data that will be read when this query is executed on the External Table and the Table?\n",
    "\n",
    "- **0 MB for the External Table and 6.41MB for the Materialized Table**\n",
    "- 18.82 MB for the External Table and 47.60 MB for the Materialized Table\n",
    "- 0 MB for the External Table and 0MB for the Materialized Table\n",
    "- 2.14 MB for the External Table and 0MB for the Materialized Table"
   ]
  },
  {
   "cell_type": "markdown",
   "id": "9e384f96",
   "metadata": {},
   "source": [
    "## Question 3:\n",
    "How many records have a fare_amount of 0?\n",
    "- 12,488\n",
    "- 128,219\n",
    "- 112\n",
    "- **1,622**"
   ]
  },
  {
   "cell_type": "markdown",
   "id": "7ec0670b",
   "metadata": {
    "ExecuteTime": {
     "end_time": "2024-02-05T20:58:59.098872Z",
     "start_time": "2024-02-05T20:58:58.937292Z"
    }
   },
   "source": [
    "![answer3](./screenshots/q3.png)"
   ]
  },
  {
   "cell_type": "markdown",
   "id": "4fd7fcd1",
   "metadata": {},
   "source": [
    "## Question 4:\n",
    "What is the best strategy to make an optimized table in Big Query if your query will always order the results by PUlocationID and filter based on lpep_pickup_datetime? (Create a new table with this strategy)\n",
    "- Cluster on lpep_pickup_datetime Partition by PUlocationID\n",
    "- **Partition by lpep_pickup_datetime  Cluster on PUlocationID**\n",
    "- Partition by lpep_pickup_datetime and Partition by PUlocationID\n",
    "- Cluster on by lpep_pickup_datetime and Cluster on PUlocationID"
   ]
  },
  {
   "cell_type": "markdown",
   "id": "f56b743c",
   "metadata": {},
   "source": [
    "![answer4](./screenshots/q4.png)"
   ]
  },
  {
   "cell_type": "markdown",
   "id": "59e6a6c2",
   "metadata": {},
   "source": [
    "## Question 5:\n",
    "Write a query to retrieve the distinct PULocationID between lpep_pickup_datetime\n",
    "06/01/2022 and 06/30/2022 (inclusive)</br>\n",
    "\n",
    "Use the materialized table you created earlier in your from clause and note the estimated bytes. Now change the table in the from clause to the partitioned table you created for question 4 and note the estimated bytes processed. What are these values? </br>\n",
    "\n",
    "Choose the answer which most closely matches.</br> \n",
    "\n",
    "- 22.82 MB for non-partitioned table and 647.87 MB for the partitioned table\n",
    "- **12.82 MB for non-partitioned table and 1.12 MB for the partitioned table**\n",
    "- 5.63 MB for non-partitioned table and 0 MB for the partitioned table\n",
    "- 10.31 MB for non-partitioned table and 10.31 MB for the partitioned table"
   ]
  },
  {
   "cell_type": "markdown",
   "id": "008d6b0b",
   "metadata": {
    "ExecuteTime": {
     "end_time": "2024-02-05T21:18:45.426614Z",
     "start_time": "2024-02-05T21:18:45.272373Z"
    }
   },
   "source": [
    "![answer5](./screenshots/q5.png)"
   ]
  },
  {
   "cell_type": "markdown",
   "id": "d7c2f46f",
   "metadata": {},
   "source": [
    "## Question 6: \n",
    "Where is the data stored in the External Table you created?\n",
    "\n",
    "- Big Query\n",
    "- **GCP Bucket**\n",
    "- Big Table\n",
    "- Container Registry"
   ]
  },
  {
   "cell_type": "markdown",
   "id": "eb73c0e8",
   "metadata": {},
   "source": [
    "## Question 7:\n",
    "It is best practice in Big Query to always cluster your data:\n",
    "- True\n",
    "- **False**"
   ]
  },
  {
   "cell_type": "markdown",
   "id": "69e935a4",
   "metadata": {},
   "source": [
    "## (Bonus: Not worth points) Question 8:\n",
    "No Points: Write a SELECT count(*) query FROM the materialized table you created. How many bytes does it estimate will be read? Why?"
   ]
  },
  {
   "cell_type": "markdown",
   "id": "f80acc3a",
   "metadata": {},
   "source": [
    "**Answer**: 0B because table row count is already part of the table metadata and does not require querying data\n",
    "\n",
    "![answer8](./screenshots/q8.png)"
   ]
  },
  {
   "cell_type": "code",
   "execution_count": null,
   "id": "eb5dbb6e",
   "metadata": {},
   "outputs": [],
   "source": []
  }
 ],
 "metadata": {
  "kernelspec": {
   "display_name": "Python 3 (ipykernel)",
   "language": "python",
   "name": "python3"
  },
  "language_info": {
   "codemirror_mode": {
    "name": "ipython",
    "version": 3
   },
   "file_extension": ".py",
   "mimetype": "text/x-python",
   "name": "python",
   "nbconvert_exporter": "python",
   "pygments_lexer": "ipython3",
   "version": "3.9.13"
  },
  "toc": {
   "base_numbering": 1,
   "nav_menu": {},
   "number_sections": true,
   "sideBar": true,
   "skip_h1_title": false,
   "title_cell": "Table of Contents",
   "title_sidebar": "Contents",
   "toc_cell": false,
   "toc_position": {},
   "toc_section_display": true,
   "toc_window_display": false
  }
 },
 "nbformat": 4,
 "nbformat_minor": 5
}
