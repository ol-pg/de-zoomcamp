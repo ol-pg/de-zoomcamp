{
 "cells": [
  {
   "cell_type": "markdown",
   "id": "3328b1bd",
   "metadata": {
    "collapsed": true
   },
   "source": [
    "##  Week 2 Homework\n",
    "In case you don't get one option exactly, select the closest one\n",
    "\n",
    "For the homework, we'll be working with the green taxi dataset located here:\n",
    "\n",
    "https://github.com/DataTalksClub/nyc-tlc-data/releases/tag/green/download\n",
    "\n",
    "Assignment\n",
    "The goal will be to construct an ETL pipeline that loads the data, performs some transformations, and writes the data to a database (and Google Cloud!).\n",
    "\n",
    "- Create a new pipeline, call it green_taxi_etl\n",
    "- Add a data loader block and use Pandas to read data for the final quarter of 2020 (months 10, 11, 12).\n",
    "    - You can use the same datatypes and date parsing methods shown in the course.\n",
    "    - BONUS: load the final three months using a for loop and pd.concat\n",
    "- Add a transformer block and perform the following:\n",
    "    - Remove rows where the passenger count is equal to 0 or the trip distance is equal to zero.\n",
    "    - Create a new column lpep_pickup_date by converting lpep_pickup_datetime to a date.\n",
    "    - Rename columns in Camel Case to Snake Case, e.g. VendorID to vendor_id.\n",
    "    - Add three assertions:\n",
    "        - vendor_id is one of the existing values in the column (currently)\n",
    "        - passenger_count is greater than 0\n",
    "        - trip_distance is greater than 0\n",
    "- Using a Postgres data exporter (SQL or Python), write the dataset to a table called green_taxi in a schema mage. - Replace the table if it already exists.\n",
    "- Write your data as Parquet files to a bucket in GCP, partioned by lpep_pickup_date. Use the pyarrow library!\n",
    "- Schedule your pipeline to run daily at 5AM UTC."
   ]
  },
  {
   "cell_type": "markdown",
   "id": "2b719a8f",
   "metadata": {},
   "source": [
    "### Question 1. Data Loading\n",
    "Once the dataset is loaded, what's the shape of the data?\n",
    "\n",
    "- **266,855 rows x 20 columns**\n",
    "- 544,898 rows x 18 columns\n",
    "- 544,898 rows x 20 columns\n",
    "- 133,744 rows x 20 columns"
   ]
  },
  {
   "cell_type": "markdown",
   "id": "26a9e1b7",
   "metadata": {},
   "source": [
    "![answer1](./screenshots/q1.png)"
   ]
  },
  {
   "cell_type": "markdown",
   "id": "46100c09",
   "metadata": {},
   "source": [
    "### Question 2. Data Transformation\n",
    "Upon filtering the dataset where the passenger count is greater than 0 and the trip distance is greater than zero, how many rows are left?\n",
    "\n",
    "- 544,897 rows\n",
    "- 266,855 rows\n",
    "- **139,370 rows**\n",
    "- 266,856 rows"
   ]
  },
  {
   "cell_type": "markdown",
   "id": "f2938995",
   "metadata": {},
   "source": [
    "![answer2](./screenshots/q2.png)"
   ]
  },
  {
   "cell_type": "markdown",
   "id": "cfb2b08c",
   "metadata": {},
   "source": [
    "### Question 3. Data Transformation\n",
    "Which of the following creates a new column lpep_pickup_date by converting lpep_pickup_datetime to a date?\n",
    "\n",
    "- data = data['lpep_pickup_datetime'].date\n",
    "- data('lpep_pickup_date') = data['lpep_pickup_datetime'].date\n",
    "- **data['lpep_pickup_date'] = data['lpep_pickup_datetime'].dt.date**\n",
    "- data['lpep_pickup_date'] = data['lpep_pickup_datetime'].dt().date()"
   ]
  },
  {
   "cell_type": "markdown",
   "id": "28793f9d",
   "metadata": {},
   "source": [
    "### Question 4. Data Transformation\n",
    "What are the existing values of VendorID in the dataset?\n",
    "\n",
    "- 1, 2, or 3\n",
    "- **1 or 2**\n",
    "- 1, 2, 3, 4\n",
    "- 1"
   ]
  },
  {
   "cell_type": "markdown",
   "id": "e9cba185",
   "metadata": {},
   "source": [
    "### Question 5. Data Transformation\n",
    "How many columns need to be renamed to snake case?\n",
    "\n",
    "- 3\n",
    "- 6\n",
    "- 2\n",
    "- **4**"
   ]
  },
  {
   "cell_type": "markdown",
   "id": "ecb63d25",
   "metadata": {},
   "source": [
    "### Question 6. Data Exporting\n",
    "Once exported, how many partitions (folders) are present in Google Cloud?\n",
    "\n",
    "- **96**\n",
    "- 56\n",
    "- 67\n",
    "- 108"
   ]
  },
  {
   "cell_type": "markdown",
   "id": "a5e1d02d",
   "metadata": {},
   "source": [
    "![answer6](./screenshots/q6.png)"
   ]
  },
  {
   "cell_type": "code",
   "execution_count": null,
   "id": "3c21ce19",
   "metadata": {},
   "outputs": [],
   "source": []
  }
 ],
 "metadata": {
  "kernelspec": {
   "display_name": "Python 3 (ipykernel)",
   "language": "python",
   "name": "python3"
  },
  "language_info": {
   "codemirror_mode": {
    "name": "ipython",
    "version": 3
   },
   "file_extension": ".py",
   "mimetype": "text/x-python",
   "name": "python",
   "nbconvert_exporter": "python",
   "pygments_lexer": "ipython3",
   "version": "3.9.13"
  },
  "toc": {
   "base_numbering": 1,
   "nav_menu": {},
   "number_sections": true,
   "sideBar": true,
   "skip_h1_title": false,
   "title_cell": "Table of Contents",
   "title_sidebar": "Contents",
   "toc_cell": false,
   "toc_position": {},
   "toc_section_display": true,
   "toc_window_display": false
  }
 },
 "nbformat": 4,
 "nbformat_minor": 5
}
